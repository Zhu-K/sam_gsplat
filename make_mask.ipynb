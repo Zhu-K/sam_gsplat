{
 "cells": [
  {
   "cell_type": "markdown",
   "metadata": {},
   "source": [
    "### This script converts 3d gaussian ply file to have white foreground colour"
   ]
  },
  {
   "cell_type": "code",
   "execution_count": 10,
   "metadata": {},
   "outputs": [],
   "source": [
    "import sys\n",
    "sys.dont_write_bytecode = True\n",
    "\n",
    "import numpy as np \n",
    "from plyfile import PlyData, PlyElement"
   ]
  },
  {
   "cell_type": "markdown",
   "metadata": {},
   "source": [
    "### Constants"
   ]
  },
  {
   "cell_type": "code",
   "execution_count": 11,
   "metadata": {},
   "outputs": [],
   "source": [
    "GAUSSIAN_FILE = '../gsplat_orchid/gsplat_output/point_cloud/iteration_30000/point_cloud.ply' \n",
    "OUTPUT_FILE = '../gsplat_orchid/gsplat_output/point_cloud/iteration_30000/point_cloud.ply' "
   ]
  },
  {
   "cell_type": "markdown",
   "metadata": {},
   "source": [
    "### Modify and save to new file"
   ]
  },
  {
   "cell_type": "code",
   "execution_count": 12,
   "metadata": {},
   "outputs": [],
   "source": [
    "ply = PlyData.read(GAUSSIAN_FILE)\n",
    "\n",
    "# Access the vertex data as a numpy structured array\n",
    "vertices = np.array(ply['vertex'].data)\n",
    "\n",
    "# Modify the color properties to white\n",
    "# Assuming the values are normalized between 0 and 1\n",
    "vertices['f_dc_0'] = np.ones(len(vertices), dtype=np.float32)\n",
    "vertices['f_dc_1'] = np.ones(len(vertices), dtype=np.float32)\n",
    "vertices['f_dc_2'] = np.ones(len(vertices), dtype=np.float32)\n",
    "\n",
    "# set all other SH params to 0 to clear view-dependent colouring\n",
    "for i in range(45):\n",
    "    vertices[f'f_rest_{i}'] = np.zeros(len(vertices), dtype=np.float32)\n",
    "\n",
    "# Create a new PlyElement for the modified vertices\n",
    "updated_vertices = PlyElement.describe(vertices, 'vertex')\n",
    "\n",
    "# Save the modified PLY data back to a new file\n",
    "ply = PlyData([updated_vertices], text=ply.text)\n",
    "ply.write(OUTPUT_FILE)\n"
   ]
  },
  {
   "cell_type": "markdown",
   "metadata": {},
   "source": [
    "### Render Segmented Gaussians"
   ]
  },
  {
   "cell_type": "code",
   "execution_count": 13,
   "metadata": {},
   "outputs": [],
   "source": [
    "GAUSSIAN_PATH = \"D:/Projects/GaussianSplat/gaussian-splatting\"\n",
    "CURRENT_PATH = \"D:/3D Sensing/GitHubRepo/sam_gsplat\" "
   ]
  },
  {
   "cell_type": "code",
   "execution_count": 14,
   "metadata": {},
   "outputs": [
    {
     "name": "stdout",
     "output_type": "stream",
     "text": [
      "D:\\Projects\\GaussianSplat\\gaussian-splatting\n"
     ]
    },
    {
     "name": "stderr",
     "output_type": "stream",
     "text": [
      "c:\\ProgramData\\anaconda3\\envs\\dust3r\\Lib\\site-packages\\IPython\\core\\magics\\osm.py:417: UserWarning: This is now an optional IPython functionality, setting dhist requires you to install the `pickleshare` library.\n",
      "  self.shell.db['dhist'] = compress_dhist(dhist)[-100:]\n"
     ]
    }
   ],
   "source": [
    "%cd {GAUSSIAN_PATH} "
   ]
  },
  {
   "cell_type": "code",
   "execution_count": 15,
   "metadata": {},
   "outputs": [
    {
     "name": "stdout",
     "output_type": "stream",
     "text": [
      "Looking for config file in D:\\3D Sensing\\GitHubRepo\\gsplat_orchid\\gsplat_output\\cfg_args\n",
      "Config file found: D:\\3D Sensing\\GitHubRepo\\gsplat_orchid\\gsplat_output\\cfg_args\n",
      "Rendering D:\\3D Sensing\\GitHubRepo\\gsplat_orchid\\gsplat_output\n",
      "Loading trained model at iteration 30000 [26/04 20:31:17]\n",
      "\n",
      "Reading camera 1/25\n",
      "Reading camera 2/25\n",
      "Reading camera 3/25\n",
      "Reading camera 4/25\n",
      "Reading camera 5/25\n",
      "Reading camera 6/25\n",
      "Reading camera 7/25\n",
      "Reading camera 8/25\n",
      "Reading camera 9/25\n",
      "Reading camera 10/25\n",
      "Reading camera 11/25\n",
      "Reading camera 12/25\n",
      "Reading camera 13/25\n",
      "Reading camera 14/25\n",
      "Reading camera 15/25\n",
      "Reading camera 16/25\n",
      "Reading camera 17/25\n",
      "Reading camera 18/25\n",
      "Reading camera 19/25\n",
      "Reading camera 20/25\n",
      "Reading camera 21/25\n",
      "Reading camera 22/25\n",
      "Reading camera 23/25\n",
      "Reading camera 24/25\n",
      "Reading camera 25/25 [26/04 20:31:18]\n",
      "Loading Training Cameras [26/04 20:31:18]\n",
      "Loading Test Cameras [26/04 20:31:22]\n"
     ]
    },
    {
     "name": "stderr",
     "output_type": "stream",
     "text": [
      "\n",
      "Rendering progress:   0%|          | 0/25 [00:00<?, ?it/s]\n",
      "Rendering progress:   4%|▍         | 1/25 [00:03<01:23,  3.47s/it]\n",
      "Rendering progress:   8%|▊         | 2/25 [00:04<00:45,  1.96s/it]\n",
      "Rendering progress:  12%|█▏        | 3/25 [00:05<00:36,  1.65s/it]\n",
      "Rendering progress:  16%|█▌        | 4/25 [00:06<00:27,  1.31s/it]\n",
      "Rendering progress:  20%|██        | 5/25 [00:07<00:22,  1.15s/it]\n",
      "Rendering progress:  24%|██▍       | 6/25 [00:08<00:21,  1.13s/it]\n",
      "Rendering progress:  28%|██▊       | 7/25 [00:09<00:19,  1.08s/it]\n",
      "Rendering progress:  32%|███▏      | 8/25 [00:10<00:16,  1.02it/s]\n",
      "Rendering progress:  36%|███▌      | 9/25 [00:10<00:14,  1.10it/s]\n",
      "Rendering progress:  40%|████      | 10/25 [00:11<00:13,  1.15it/s]\n",
      "Rendering progress:  44%|████▍     | 11/25 [00:12<00:11,  1.21it/s]\n",
      "Rendering progress:  48%|████▊     | 12/25 [00:13<00:10,  1.24it/s]\n",
      "Rendering progress:  52%|█████▏    | 13/25 [00:13<00:09,  1.28it/s]\n",
      "Rendering progress:  56%|█████▌    | 14/25 [00:14<00:08,  1.27it/s]\n",
      "Rendering progress:  60%|██████    | 15/25 [00:15<00:07,  1.30it/s]\n",
      "Rendering progress:  64%|██████▍   | 16/25 [00:16<00:06,  1.33it/s]\n",
      "Rendering progress:  68%|██████▊   | 17/25 [00:16<00:05,  1.37it/s]\n",
      "Rendering progress:  72%|███████▏  | 18/25 [00:17<00:05,  1.39it/s]\n",
      "Rendering progress:  76%|███████▌  | 19/25 [00:18<00:04,  1.39it/s]\n",
      "Rendering progress:  80%|████████  | 20/25 [00:18<00:03,  1.39it/s]\n",
      "Rendering progress:  84%|████████▍ | 21/25 [00:19<00:02,  1.38it/s]\n",
      "Rendering progress:  88%|████████▊ | 22/25 [00:20<00:02,  1.37it/s]\n",
      "Rendering progress:  92%|█████████▏| 23/25 [00:21<00:01,  1.36it/s]\n",
      "Rendering progress:  96%|█████████▌| 24/25 [00:21<00:00,  1.34it/s]\n",
      "Rendering progress: 100%|██████████| 25/25 [00:22<00:00,  1.35it/s]\n",
      "Rendering progress: 100%|██████████| 25/25 [00:22<00:00,  1.10it/s]\n",
      "\n",
      "Rendering progress: 0it [00:00, ?it/s]\n",
      "Rendering progress: 0it [00:00, ?it/s]\n"
     ]
    }
   ],
   "source": [
    "!python render.py -m \"D:\\3D Sensing\\GitHubRepo\\gsplat_orchid\\gsplat_output\" -s \"D:\\3D Sensing\\GitHubRepo\\gsplat_orchid\\gsplat_model\" --data_device cuda"
   ]
  },
  {
   "cell_type": "code",
   "execution_count": 16,
   "metadata": {},
   "outputs": [
    {
     "name": "stdout",
     "output_type": "stream",
     "text": [
      "D:\\3D Sensing\\GitHubRepo\\sam_gsplat\n"
     ]
    }
   ],
   "source": [
    "%cd {CURRENT_PATH}"
   ]
  },
  {
   "cell_type": "markdown",
   "metadata": {},
   "source": [
    "### Create Folder with Ground Truths and Renders"
   ]
  },
  {
   "cell_type": "markdown",
   "metadata": {},
   "source": [
    "The ground truth segmentation file names are all over the place, but they do have the file number that references the same image as the render. Thus, here we are just preparing the results in a common folder such that we can easily calculate metrics on them in the main pipeline files."
   ]
  },
  {
   "cell_type": "code",
   "execution_count": 18,
   "metadata": {},
   "outputs": [],
   "source": [
    "import os  \n",
    "import shutil \n",
    "import cv2\n",
    "from PIL import Image\n",
    "import numpy as np \n",
    "import matplotlib.pyplot as plt \n",
    "\n",
    "SPINNERF_DATA = 'D:/3D Sensing/GitHubRepo/orchids'  \n",
    "DEST_DIR = '../rendersOrchid'\n",
    "RENDERED_PATH = 'D:/3D Sensing/GitHubRepo/gsplat_orchid/gsplat_output/allRenders/ours_30000/renders'  \n",
    "\n",
    "new_size = (1008, 756) \n",
    "\n",
    "# Create the destination directory if it doesn't exist\n",
    "if not os.path.exists(DEST_DIR):\n",
    "    os.makedirs(os.path.join(DEST_DIR, 'gt'))  \n",
    "    os.makedirs(os.path.join(DEST_DIR, 'renders'))\n",
    "\n",
    "for filename in os.listdir(SPINNERF_DATA):\n",
    "    # Check if the file name contains 'pseudo'\n",
    "    if 'pseudo' in filename:\n",
    "        # Construct the full file path\n",
    "        src_file = os.path.join(SPINNERF_DATA, filename)\n",
    "        \n",
    "        # Extract the 6 digit number after the first underscore in the file name\n",
    "        new_filename = filename.split('_pseudo')[0] + '.png'  \n",
    "        \n",
    "        # Construct the destination ground file path\n",
    "        dst_file = os.path.join(DEST_DIR, 'gt' , new_filename) \n",
    "\n",
    "        # Construct the destination render file path \n",
    "        rend_file = os.path.join(RENDERED_PATH, new_filename) \n",
    "\n",
    "        # Create binary mask out of the gt and renders \n",
    "        gt_img = cv2.imread(src_file)\n",
    "        rend_img = cv2.imread(rend_file)   \n",
    "        rend_img =  cv2.resize(rend_img, new_size, interpolation = cv2.INTER_LINEAR)\n",
    "\n",
    "        gray_rend = cv2.cvtColor(rend_img, cv2.COLOR_BGR2GRAY)  \n",
    "        _, binary_rend = cv2.threshold(gray_rend, int(0.6 * 255), 255, cv2.THRESH_BINARY) \n",
    "\n",
    "        gray_gt = cv2.cvtColor(gt_img, cv2.COLOR_BGR2GRAY)  \n",
    "        _, binary_gt = cv2.threshold(gray_gt, int(0.0 * 255), 255, cv2.THRESH_BINARY) \n",
    "\n",
    "        dst_file2 = os.path.join(DEST_DIR, 'renders' , new_filename)\n",
    "\n",
    "        # Copy and rename the file\n",
    "        cv2.imwrite(dst_file, binary_gt) \n",
    "        cv2.imwrite(dst_file2, binary_rend)    "
   ]
  },
  {
   "cell_type": "code",
   "execution_count": null,
   "metadata": {},
   "outputs": [],
   "source": []
  }
 ],
 "metadata": {
  "kernelspec": {
   "display_name": "dnnVC",
   "language": "python",
   "name": "python3"
  },
  "language_info": {
   "codemirror_mode": {
    "name": "ipython",
    "version": 3
   },
   "file_extension": ".py",
   "mimetype": "text/x-python",
   "name": "python",
   "nbconvert_exporter": "python",
   "pygments_lexer": "ipython3",
   "version": "3.11.8"
  }
 },
 "nbformat": 4,
 "nbformat_minor": 2
}
