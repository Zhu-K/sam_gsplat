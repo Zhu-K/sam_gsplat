{
 "cells": [
  {
   "cell_type": "markdown",
   "metadata": {},
   "source": [
    "### This script converts 3d gaussian ply file to have white foreground colour"
   ]
  },
  {
   "cell_type": "code",
   "execution_count": 3,
   "metadata": {},
   "outputs": [],
   "source": [
    "import sys\n",
    "sys.dont_write_bytecode = True\n",
    "\n",
    "import numpy as np \n",
    "from plyfile import PlyData, PlyElement"
   ]
  },
  {
   "cell_type": "markdown",
   "metadata": {},
   "source": [
    "### Constants"
   ]
  },
  {
   "cell_type": "code",
   "execution_count": 4,
   "metadata": {},
   "outputs": [],
   "source": [
    "GAUSSIAN_FILE = './outputs/multiView_kmeans_10.ply' \n",
    "OUTPUT_FILE = './outputs/multiView_kmeans_10_white.ply' "
   ]
  },
  {
   "cell_type": "markdown",
   "metadata": {},
   "source": [
    "### Modify and save to new file"
   ]
  },
  {
   "cell_type": "code",
   "execution_count": 6,
   "metadata": {},
   "outputs": [],
   "source": [
    "ply = PlyData.read(GAUSSIAN_FILE)\n",
    "\n",
    "# Access the vertex data as a numpy structured array\n",
    "vertices = np.array(ply['vertex'].data)\n",
    "\n",
    "# Modify the color properties to white\n",
    "# Assuming the values are normalized between 0 and 1\n",
    "vertices['f_dc_0'] = np.ones(len(vertices), dtype=np.float32)\n",
    "vertices['f_dc_1'] = np.ones(len(vertices), dtype=np.float32)\n",
    "vertices['f_dc_2'] = np.ones(len(vertices), dtype=np.float32)\n",
    "\n",
    "# set all other SH params to 0 to clear view-dependent colouring\n",
    "for i in range(45):\n",
    "    vertices[f'f_rest_{i}'] = np.zeros(len(vertices), dtype=np.float32)\n",
    "\n",
    "# Create a new PlyElement for the modified vertices\n",
    "updated_vertices = PlyElement.describe(vertices, 'vertex')\n",
    "\n",
    "# Save the modified PLY data back to a new file\n",
    "ply = PlyData([updated_vertices], text=ply.text)\n",
    "ply.write(OUTPUT_FILE)\n",
    "\n"
   ]
  },
  {
   "cell_type": "code",
   "execution_count": null,
   "metadata": {},
   "outputs": [],
   "source": []
  }
 ],
 "metadata": {
  "kernelspec": {
   "display_name": "dnnVC",
   "language": "python",
   "name": "python3"
  },
  "language_info": {
   "codemirror_mode": {
    "name": "ipython",
    "version": 3
   },
   "file_extension": ".py",
   "mimetype": "text/x-python",
   "name": "python",
   "nbconvert_exporter": "python",
   "pygments_lexer": "ipython3",
   "version": "3.11.0"
  }
 },
 "nbformat": 4,
 "nbformat_minor": 2
}
