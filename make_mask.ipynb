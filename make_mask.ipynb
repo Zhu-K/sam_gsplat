{
 "cells": [
  {
   "cell_type": "markdown",
   "metadata": {},
   "source": [
    "### This script converts 3d gaussian ply file to have white foreground colour"
   ]
  },
  {
   "cell_type": "code",
   "execution_count": 1,
   "metadata": {},
   "outputs": [],
   "source": [
    "import sys\n",
    "sys.dont_write_bytecode = True\n",
    "\n",
    "import numpy as np \n",
    "from plyfile import PlyData, PlyElement"
   ]
  },
  {
   "cell_type": "markdown",
   "metadata": {},
   "source": [
    "### Constants"
   ]
  },
  {
   "cell_type": "code",
   "execution_count": 2,
   "metadata": {},
   "outputs": [],
   "source": [
    "GAUSSIAN_FILE = '../gsplat_pinecone/gsplat_output/point_cloud/iteration_30000/point_cloud.ply' \n",
    "OUTPUT_FILE = '../gsplat_fortress/gsplat_output/point_cloud/iteration_30000/point_cloud.ply' "
   ]
  },
  {
   "cell_type": "markdown",
   "metadata": {},
   "source": [
    "### Modify and save to new file"
   ]
  },
  {
   "cell_type": "code",
   "execution_count": 3,
   "metadata": {},
   "outputs": [],
   "source": [
    "ply = PlyData.read(GAUSSIAN_FILE)\n",
    "\n",
    "# Access the vertex data as a numpy structured array\n",
    "vertices = np.array(ply['vertex'].data)\n",
    "\n",
    "# Modify the color properties to white\n",
    "# Assuming the values are normalized between 0 and 1\n",
    "vertices['f_dc_0'] = np.ones(len(vertices), dtype=np.float32)\n",
    "vertices['f_dc_1'] = np.ones(len(vertices), dtype=np.float32)\n",
    "vertices['f_dc_2'] = np.ones(len(vertices), dtype=np.float32)\n",
    "\n",
    "# set all other SH params to 0 to clear view-dependent colouring\n",
    "for i in range(45):\n",
    "    vertices[f'f_rest_{i}'] = np.zeros(len(vertices), dtype=np.float32)\n",
    "\n",
    "# Create a new PlyElement for the modified vertices\n",
    "updated_vertices = PlyElement.describe(vertices, 'vertex')\n",
    "\n",
    "# Save the modified PLY data back to a new file\n",
    "ply = PlyData([updated_vertices], text=ply.text)\n",
    "ply.write(OUTPUT_FILE)\n"
   ]
  },
  {
   "cell_type": "markdown",
   "metadata": {},
   "source": [
    "### Render Segmented Gaussians"
   ]
  },
  {
   "cell_type": "code",
   "execution_count": 4,
   "metadata": {},
   "outputs": [],
   "source": [
    "GAUSSIAN_PATH = \"D:/Projects/GaussianSplat/gaussian-splatting\"\n",
    "CURRENT_PATH = \"D:/3D Sensing/GitHubRepo/sam_gsplat\" "
   ]
  },
  {
   "cell_type": "code",
   "execution_count": 5,
   "metadata": {},
   "outputs": [
    {
     "name": "stdout",
     "output_type": "stream",
     "text": [
      "D:\\Projects\\GaussianSplat\\gaussian-splatting\n"
     ]
    },
    {
     "name": "stderr",
     "output_type": "stream",
     "text": [
      "c:\\ProgramData\\anaconda3\\envs\\dust3r\\Lib\\site-packages\\IPython\\core\\magics\\osm.py:417: UserWarning: This is now an optional IPython functionality, setting dhist requires you to install the `pickleshare` library.\n",
      "  self.shell.db['dhist'] = compress_dhist(dhist)[-100:]\n"
     ]
    }
   ],
   "source": [
    "%cd {GAUSSIAN_PATH} "
   ]
  },
  {
   "cell_type": "code",
   "execution_count": 6,
   "metadata": {},
   "outputs": [
    {
     "name": "stdout",
     "output_type": "stream",
     "text": [
      "Looking for config file in D:\\3D Sensing\\GitHubRepo\\gsplat_fortress\\gsplat_output\\cfg_args\n",
      "Config file found: D:\\3D Sensing\\GitHubRepo\\gsplat_fortress\\gsplat_output\\cfg_args\n",
      "Rendering D:\\3D Sensing\\GitHubRepo\\gsplat_fortress\\gsplat_output\n",
      "Loading trained model at iteration 30000 [26/04 20:14:41]\n",
      "\n",
      "Reading camera 1/42\n",
      "Reading camera 2/42\n",
      "Reading camera 3/42\n",
      "Reading camera 4/42\n",
      "Reading camera 5/42\n",
      "Reading camera 6/42\n",
      "Reading camera 7/42\n",
      "Reading camera 8/42\n",
      "Reading camera 9/42\n",
      "Reading camera 10/42\n",
      "Reading camera 11/42\n",
      "Reading camera 12/42\n",
      "Reading camera 13/42\n",
      "Reading camera 14/42\n",
      "Reading camera 15/42\n",
      "Reading camera 16/42\n",
      "Reading camera 17/42\n",
      "Reading camera 18/42\n",
      "Reading camera 19/42\n",
      "Reading camera 20/42\n",
      "Reading camera 21/42\n",
      "Reading camera 22/42\n",
      "Reading camera 23/42\n",
      "Reading camera 24/42\n",
      "Reading camera 25/42\n",
      "Reading camera 26/42\n",
      "Reading camera 27/42\n",
      "Reading camera 28/42\n",
      "Reading camera 29/42\n",
      "Reading camera 30/42\n",
      "Reading camera 31/42\n",
      "Reading camera 32/42\n",
      "Reading camera 33/42\n",
      "Reading camera 34/42\n",
      "Reading camera 35/42\n",
      "Reading camera 36/42\n",
      "Reading camera 37/42\n",
      "Reading camera 38/42\n",
      "Reading camera 39/42\n",
      "Reading camera 40/42\n",
      "Reading camera 41/42\n",
      "Reading camera 42/42 [26/04 20:14:42]\n",
      "Loading Training Cameras [26/04 20:14:42]\n",
      "Loading Test Cameras [26/04 20:14:49]\n"
     ]
    },
    {
     "name": "stderr",
     "output_type": "stream",
     "text": [
      "\n",
      "Rendering progress:   0%|          | 0/42 [00:00<?, ?it/s]\n",
      "Rendering progress:   2%|▏         | 1/42 [00:02<01:46,  2.60s/it]\n",
      "Rendering progress:   5%|▍         | 2/42 [00:03<01:02,  1.57s/it]\n",
      "Rendering progress:   7%|▋         | 3/42 [00:04<00:50,  1.29s/it]\n",
      "Rendering progress:  10%|▉         | 4/42 [00:05<00:49,  1.30s/it]\n",
      "Rendering progress:  12%|█▏        | 5/42 [00:06<00:44,  1.20s/it]\n",
      "Rendering progress:  14%|█▍        | 6/42 [00:07<00:40,  1.11s/it]\n",
      "Rendering progress:  17%|█▋        | 7/42 [00:08<00:37,  1.06s/it]\n",
      "Rendering progress:  19%|█▉        | 8/42 [00:09<00:35,  1.03s/it]\n",
      "Rendering progress:  21%|██▏       | 9/42 [00:10<00:32,  1.01it/s]\n",
      "Rendering progress:  24%|██▍       | 10/42 [00:11<00:32,  1.02s/it]\n",
      "Rendering progress:  26%|██▌       | 11/42 [00:12<00:32,  1.04s/it]\n",
      "Rendering progress:  29%|██▊       | 12/42 [00:13<00:32,  1.09s/it]\n",
      "Rendering progress:  31%|███       | 13/42 [00:14<00:31,  1.07s/it]\n",
      "Rendering progress:  33%|███▎      | 14/42 [00:16<00:31,  1.11s/it]\n",
      "Rendering progress:  36%|███▌      | 15/42 [00:17<00:30,  1.11s/it]\n",
      "Rendering progress:  38%|███▊      | 16/42 [00:18<00:29,  1.13s/it]\n",
      "Rendering progress:  40%|████      | 17/42 [00:19<00:26,  1.07s/it]\n",
      "Rendering progress:  43%|████▎     | 18/42 [00:20<00:24,  1.01s/it]\n",
      "Rendering progress:  45%|████▌     | 19/42 [00:21<00:22,  1.03it/s]\n",
      "Rendering progress:  48%|████▊     | 20/42 [00:22<00:23,  1.07s/it]\n",
      "Rendering progress:  50%|█████     | 21/42 [00:24<00:26,  1.24s/it]\n",
      "Rendering progress:  52%|█████▏    | 22/42 [00:25<00:24,  1.22s/it]\n",
      "Rendering progress:  55%|█████▍    | 23/42 [00:26<00:22,  1.20s/it]\n",
      "Rendering progress:  57%|█████▋    | 24/42 [00:27<00:21,  1.20s/it]\n",
      "Rendering progress:  60%|█████▉    | 25/42 [00:28<00:18,  1.11s/it]\n",
      "Rendering progress:  62%|██████▏   | 26/42 [00:29<00:17,  1.06s/it]\n",
      "Rendering progress:  64%|██████▍   | 27/42 [00:30<00:16,  1.09s/it]\n",
      "Rendering progress:  67%|██████▋   | 28/42 [00:31<00:15,  1.12s/it]\n",
      "Rendering progress:  69%|██████▉   | 29/42 [00:33<00:18,  1.45s/it]\n",
      "Rendering progress:  71%|███████▏  | 30/42 [00:34<00:15,  1.32s/it]\n",
      "Rendering progress:  74%|███████▍  | 31/42 [00:35<00:13,  1.19s/it]\n",
      "Rendering progress:  76%|███████▌  | 32/42 [00:36<00:11,  1.14s/it]\n",
      "Rendering progress:  79%|███████▊  | 33/42 [00:37<00:10,  1.12s/it]\n",
      "Rendering progress:  81%|████████  | 34/42 [00:39<00:08,  1.10s/it]\n",
      "Rendering progress:  83%|████████▎ | 35/42 [00:40<00:07,  1.09s/it]\n",
      "Rendering progress:  86%|████████▌ | 36/42 [00:41<00:06,  1.10s/it]\n",
      "Rendering progress:  88%|████████▊ | 37/42 [00:41<00:05,  1.01s/it]\n",
      "Rendering progress:  90%|█████████ | 38/42 [00:42<00:03,  1.06it/s]\n",
      "Rendering progress:  93%|█████████▎| 39/42 [00:43<00:02,  1.09it/s]\n",
      "Rendering progress:  95%|█████████▌| 40/42 [00:44<00:01,  1.04it/s]\n",
      "Rendering progress:  98%|█████████▊| 41/42 [00:45<00:01,  1.01s/it]\n",
      "Rendering progress: 100%|██████████| 42/42 [00:46<00:00,  1.03s/it]\n",
      "Rendering progress: 100%|██████████| 42/42 [00:46<00:00,  1.12s/it]\n",
      "\n",
      "Rendering progress: 0it [00:00, ?it/s]\n",
      "Rendering progress: 0it [00:00, ?it/s]\n"
     ]
    }
   ],
   "source": [
    "!python render.py -m \"D:\\3D Sensing\\GitHubRepo\\gsplat_fortress\\gsplat_output\" -s \"D:\\3D Sensing\\GitHubRepo\\gsplat_fortress\\gsplat_model\" --data_device cuda"
   ]
  },
  {
   "cell_type": "code",
   "execution_count": 7,
   "metadata": {},
   "outputs": [
    {
     "name": "stdout",
     "output_type": "stream",
     "text": [
      "D:\\3D Sensing\\GitHubRepo\\sam_gsplat\n"
     ]
    }
   ],
   "source": [
    "%cd {CURRENT_PATH}"
   ]
  },
  {
   "cell_type": "markdown",
   "metadata": {},
   "source": [
    "### Create Folder with Ground Truths and Renders"
   ]
  },
  {
   "cell_type": "markdown",
   "metadata": {},
   "source": [
    "The ground truth segmentation file names are all over the place, but they do have the file number that references the same image as the render. Thus, here we are just preparing the results in a common folder such that we can easily calculate metrics on them in the main pipeline files."
   ]
  },
  {
   "cell_type": "code",
   "execution_count": 8,
   "metadata": {},
   "outputs": [],
   "source": [
    "import os  \n",
    "import shutil \n",
    "import cv2\n",
    "from PIL import Image\n",
    "import numpy as np \n",
    "import matplotlib.pyplot as plt \n",
    "\n",
    "SPINNERF_DATA = 'D:/3D Sensing/GitHubRepo/fortress'  \n",
    "DEST_DIR = '../rendersFortress'\n",
    "RENDERED_PATH = 'D:/3D Sensing/GitHubRepo/gsplat_fortress/gsplat_output/allRenders/ours_30000/renders'  \n",
    "\n",
    "new_size = (1008, 756) \n",
    "\n",
    "# Create the destination directory if it doesn't exist\n",
    "if not os.path.exists(DEST_DIR):\n",
    "    os.makedirs(os.path.join(DEST_DIR, 'gt'))  \n",
    "    os.makedirs(os.path.join(DEST_DIR, 'renders'))\n",
    "\n",
    "for filename in os.listdir(SPINNERF_DATA):\n",
    "    # Check if the file name contains 'pseudo'\n",
    "    if 'pseudo' in filename:\n",
    "        # Construct the full file path\n",
    "        src_file = os.path.join(SPINNERF_DATA, filename)\n",
    "        \n",
    "        # Extract the 6 digit number after the first underscore in the file name\n",
    "        new_filename = filename.split('_')[0] + '.png' \n",
    "\n",
    "        # Construct the destination ground file path\n",
    "        dst_file = os.path.join(DEST_DIR, 'gt' , new_filename) \n",
    "\n",
    "        # Construct the destination render file path \n",
    "        rend_file = os.path.join(RENDERED_PATH, new_filename) \n",
    "\n",
    "        # Create binary mask out of the gt and renders \n",
    "        gt_img = cv2.imread(src_file)\n",
    "        rend_img = cv2.imread(rend_file)   \n",
    "        rend_img =  cv2.resize(rend_img, new_size, interpolation = cv2.INTER_LINEAR)\n",
    "\n",
    "        gray_rend = cv2.cvtColor(rend_img, cv2.COLOR_BGR2GRAY)  \n",
    "        _, binary_rend = cv2.threshold(gray_rend, int(0.6 * 255), 255, cv2.THRESH_BINARY) \n",
    "\n",
    "        gray_gt = cv2.cvtColor(gt_img, cv2.COLOR_BGR2GRAY)  \n",
    "        _, binary_gt = cv2.threshold(gray_gt, int(0.0 * 255), 255, cv2.THRESH_BINARY) \n",
    "\n",
    "        dst_file2 = os.path.join(DEST_DIR, 'renders' , new_filename)\n",
    "\n",
    "        # Copy and rename the file\n",
    "        cv2.imwrite(dst_file, binary_gt) \n",
    "        cv2.imwrite(dst_file2, binary_rend)    "
   ]
  }
 ],
 "metadata": {
  "kernelspec": {
   "display_name": "dnnVC",
   "language": "python",
   "name": "python3"
  },
  "language_info": {
   "codemirror_mode": {
    "name": "ipython",
    "version": 3
   },
   "file_extension": ".py",
   "mimetype": "text/x-python",
   "name": "python",
   "nbconvert_exporter": "python",
   "pygments_lexer": "ipython3",
   "version": "3.11.8"
  }
 },
 "nbformat": 4,
 "nbformat_minor": 2
}
